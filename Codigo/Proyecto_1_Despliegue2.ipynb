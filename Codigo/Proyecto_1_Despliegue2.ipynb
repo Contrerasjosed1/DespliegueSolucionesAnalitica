{
  "nbformat": 4,
  "nbformat_minor": 0,
  "metadata": {
    "colab": {
      "provenance": [],
      "gpuType": "T4"
    },
    "kernelspec": {
      "name": "python3",
      "display_name": "Python 3"
    },
    "language_info": {
      "name": "python"
    },
    "accelerator": "GPU"
  },
  "cells": [
    {
      "cell_type": "markdown",
      "source": [
        "# Proyecto_1_Despliegue\n",
        "\n",
        "Se importan las bibliotecas esenciales para la creación del modelo, tales como pandas, numpy, y las clases de Scikit-Learn para el preprocesamiento y el ajuste del modelo.\n",
        "\n",
        "El archivo ARREGLO_DIRECTO.csv es cargado y se realiza una revisión inicial de la estructura de los datos con df.head() y df.info()."
      ],
      "metadata": {
        "id": "ToNsAQuaIclp"
      }
    },
    {
      "cell_type": "code",
      "execution_count": 1,
      "metadata": {
        "id": "sMJ1bR4NIWl9"
      },
      "outputs": [],
      "source": [
        "import pandas as pd\n",
        "import numpy as np\n",
        "import matplotlib.pyplot as plt\n",
        "import sklearn\n",
        "from sklearn.feature_selection import RFE\n",
        "from sklearn.model_selection import GridSearchCV, cross_val_score, train_test_split\n",
        "from sklearn.ensemble import GradientBoostingRegressor\n",
        "from sklearn.metrics import mean_absolute_error, mean_squared_error, r2_score\n",
        "from sklearn.preprocessing import OneHotEncoder\n",
        "from sklearn.compose import ColumnTransformer\n",
        "from sklearn.pipeline import Pipeline\n"
      ]
    },
    {
      "cell_type": "code",
      "source": [
        "df = pd.read_csv('ARREGLO_DIRECTO.csv', delimiter=';')"
      ],
      "metadata": {
        "id": "lJafsZfJIttq"
      },
      "execution_count": 2,
      "outputs": []
    },
    {
      "cell_type": "code",
      "source": [
        "df.head(5)"
      ],
      "metadata": {
        "colab": {
          "base_uri": "https://localhost:8080/",
          "height": 440
        },
        "id": "ovwGYyPqIuTN",
        "outputId": "928cd18b-299c-45b8-a0f3-74882990d92f"
      },
      "execution_count": 3,
      "outputs": [
        {
          "output_type": "execute_result",
          "data": {
            "text/plain": [
              "     PAID FECHA_REGISTRO     UNIDAD_NOMBRE                PROYECTO_RNPC  \\\n",
              "0  615062     2022-01-21  CB SAN CRISTOBAL  Casas del Consumidor Bogota   \n",
              "1  365005     2021-03-05       CB FONTIBON  Casas del Consumidor Bogota   \n",
              "2  317494     2020-10-28       CB FONTIBON  Casas del Consumidor Bogota   \n",
              "3  325526     2020-11-11           CB SUBA  Casas del Consumidor Bogota   \n",
              "4  458104     2021-07-14           CB SUBA  Casas del Consumidor Bogota   \n",
              "\n",
              "  UNIDAD_DEPARTAMENTO DESTINO_DEPARTAMENTO DESTINO_CIUDAD  \\\n",
              "0              BOGOTA               BOGOTA  SAN CRISTOBAL   \n",
              "1              BOGOTA               BOGOTA       FONTIBON   \n",
              "2              BOGOTA               BOGOTA       FONTIBON   \n",
              "3              BOGOTA               BOGOTA           SUBA   \n",
              "4              BOGOTA               BOGOTA           SUBA   \n",
              "\n",
              "  ATENCION_TIPO_TRAMITE ATENCION_DESTINO  \\\n",
              "0       ARREGLO DIRECTO              SIC   \n",
              "1       ARREGLO DIRECTO              SIC   \n",
              "2       ARREGLO DIRECTO              SIC   \n",
              "3       ARREGLO DIRECTO              SIC   \n",
              "4       ARREGLO DIRECTO              SIC   \n",
              "\n",
              "                                       ATENCION_TEMA  ... TIPO_PRODUCTO  \\\n",
              "0                                         Garantías   ...          Bien   \n",
              "1  Prestación de servicios que suponen la entrega...  ...          Bien   \n",
              "2                                         Garantías   ...          Bien   \n",
              "3                  Información o publicidad engañosa  ...          Bien   \n",
              "4                                         Garantías   ...      Servicio   \n",
              "\n",
              "                  NOMBRE_PRODUCTO VALOR_PRODUCTO FECHA_ADQUISICION  \\\n",
              "0        FABRICACION SOPORTE CAMA         220000  2021-03-30 00:00   \n",
              "1       cama de 1.40x190 tapizada         180000  2020-12-03 00:00   \n",
              "2                         celular         100000  2020-10-02 00:00   \n",
              "3                        Vehiculo       22500000  2019-11-29 00:00   \n",
              "4  televisor 60 pulgadas marca LG        2600000  2018-05-16 00:00   \n",
              "\n",
              "  FECHA_ULTIMO_ENCUENTRO FECHA_FIN_ULTIMO_ENCUENTRO FECHA_FIN_REAL  \\\n",
              "0             2022-01-31                 2022-02-01     2022-02-01   \n",
              "1             2021-03-10                 2021-03-10     2021-03-10   \n",
              "2             2020-10-28                 2021-02-25     2021-02-25   \n",
              "3             2020-11-26                 2020-11-26     2020-11-26   \n",
              "4             2021-08-05                 2021-08-05     2021-08-05   \n",
              "\n",
              "  ENCUENTRO_ACORDADO    FECHA_CONTRATO DURACION  \n",
              "0                 SI  2022-02-01 14:35       11  \n",
              "1                 SI  2021-03-10 11:05        5  \n",
              "2                 SI  2021-02-25 13:25      120  \n",
              "3                 SI  2020-11-26 11:32       15  \n",
              "4                 SI  2021-08-05 12:39       22  \n",
              "\n",
              "[5 rows x 34 columns]"
            ],
            "text/html": [
              "\n",
              "  <div id=\"df-4d8dde47-26a1-4fc9-9b91-2b552cbec5a7\" class=\"colab-df-container\">\n",
              "    <div>\n",
              "<style scoped>\n",
              "    .dataframe tbody tr th:only-of-type {\n",
              "        vertical-align: middle;\n",
              "    }\n",
              "\n",
              "    .dataframe tbody tr th {\n",
              "        vertical-align: top;\n",
              "    }\n",
              "\n",
              "    .dataframe thead th {\n",
              "        text-align: right;\n",
              "    }\n",
              "</style>\n",
              "<table border=\"1\" class=\"dataframe\">\n",
              "  <thead>\n",
              "    <tr style=\"text-align: right;\">\n",
              "      <th></th>\n",
              "      <th>PAID</th>\n",
              "      <th>FECHA_REGISTRO</th>\n",
              "      <th>UNIDAD_NOMBRE</th>\n",
              "      <th>PROYECTO_RNPC</th>\n",
              "      <th>UNIDAD_DEPARTAMENTO</th>\n",
              "      <th>DESTINO_DEPARTAMENTO</th>\n",
              "      <th>DESTINO_CIUDAD</th>\n",
              "      <th>ATENCION_TIPO_TRAMITE</th>\n",
              "      <th>ATENCION_DESTINO</th>\n",
              "      <th>ATENCION_TEMA</th>\n",
              "      <th>...</th>\n",
              "      <th>TIPO_PRODUCTO</th>\n",
              "      <th>NOMBRE_PRODUCTO</th>\n",
              "      <th>VALOR_PRODUCTO</th>\n",
              "      <th>FECHA_ADQUISICION</th>\n",
              "      <th>FECHA_ULTIMO_ENCUENTRO</th>\n",
              "      <th>FECHA_FIN_ULTIMO_ENCUENTRO</th>\n",
              "      <th>FECHA_FIN_REAL</th>\n",
              "      <th>ENCUENTRO_ACORDADO</th>\n",
              "      <th>FECHA_CONTRATO</th>\n",
              "      <th>DURACION</th>\n",
              "    </tr>\n",
              "  </thead>\n",
              "  <tbody>\n",
              "    <tr>\n",
              "      <th>0</th>\n",
              "      <td>615062</td>\n",
              "      <td>2022-01-21</td>\n",
              "      <td>CB SAN CRISTOBAL</td>\n",
              "      <td>Casas del Consumidor Bogota</td>\n",
              "      <td>BOGOTA</td>\n",
              "      <td>BOGOTA</td>\n",
              "      <td>SAN CRISTOBAL</td>\n",
              "      <td>ARREGLO DIRECTO</td>\n",
              "      <td>SIC</td>\n",
              "      <td>Garantías</td>\n",
              "      <td>...</td>\n",
              "      <td>Bien</td>\n",
              "      <td>FABRICACION SOPORTE CAMA</td>\n",
              "      <td>220000</td>\n",
              "      <td>2021-03-30 00:00</td>\n",
              "      <td>2022-01-31</td>\n",
              "      <td>2022-02-01</td>\n",
              "      <td>2022-02-01</td>\n",
              "      <td>SI</td>\n",
              "      <td>2022-02-01 14:35</td>\n",
              "      <td>11</td>\n",
              "    </tr>\n",
              "    <tr>\n",
              "      <th>1</th>\n",
              "      <td>365005</td>\n",
              "      <td>2021-03-05</td>\n",
              "      <td>CB FONTIBON</td>\n",
              "      <td>Casas del Consumidor Bogota</td>\n",
              "      <td>BOGOTA</td>\n",
              "      <td>BOGOTA</td>\n",
              "      <td>FONTIBON</td>\n",
              "      <td>ARREGLO DIRECTO</td>\n",
              "      <td>SIC</td>\n",
              "      <td>Prestación de servicios que suponen la entrega...</td>\n",
              "      <td>...</td>\n",
              "      <td>Bien</td>\n",
              "      <td>cama de 1.40x190 tapizada</td>\n",
              "      <td>180000</td>\n",
              "      <td>2020-12-03 00:00</td>\n",
              "      <td>2021-03-10</td>\n",
              "      <td>2021-03-10</td>\n",
              "      <td>2021-03-10</td>\n",
              "      <td>SI</td>\n",
              "      <td>2021-03-10 11:05</td>\n",
              "      <td>5</td>\n",
              "    </tr>\n",
              "    <tr>\n",
              "      <th>2</th>\n",
              "      <td>317494</td>\n",
              "      <td>2020-10-28</td>\n",
              "      <td>CB FONTIBON</td>\n",
              "      <td>Casas del Consumidor Bogota</td>\n",
              "      <td>BOGOTA</td>\n",
              "      <td>BOGOTA</td>\n",
              "      <td>FONTIBON</td>\n",
              "      <td>ARREGLO DIRECTO</td>\n",
              "      <td>SIC</td>\n",
              "      <td>Garantías</td>\n",
              "      <td>...</td>\n",
              "      <td>Bien</td>\n",
              "      <td>celular</td>\n",
              "      <td>100000</td>\n",
              "      <td>2020-10-02 00:00</td>\n",
              "      <td>2020-10-28</td>\n",
              "      <td>2021-02-25</td>\n",
              "      <td>2021-02-25</td>\n",
              "      <td>SI</td>\n",
              "      <td>2021-02-25 13:25</td>\n",
              "      <td>120</td>\n",
              "    </tr>\n",
              "    <tr>\n",
              "      <th>3</th>\n",
              "      <td>325526</td>\n",
              "      <td>2020-11-11</td>\n",
              "      <td>CB SUBA</td>\n",
              "      <td>Casas del Consumidor Bogota</td>\n",
              "      <td>BOGOTA</td>\n",
              "      <td>BOGOTA</td>\n",
              "      <td>SUBA</td>\n",
              "      <td>ARREGLO DIRECTO</td>\n",
              "      <td>SIC</td>\n",
              "      <td>Información o publicidad engañosa</td>\n",
              "      <td>...</td>\n",
              "      <td>Bien</td>\n",
              "      <td>Vehiculo</td>\n",
              "      <td>22500000</td>\n",
              "      <td>2019-11-29 00:00</td>\n",
              "      <td>2020-11-26</td>\n",
              "      <td>2020-11-26</td>\n",
              "      <td>2020-11-26</td>\n",
              "      <td>SI</td>\n",
              "      <td>2020-11-26 11:32</td>\n",
              "      <td>15</td>\n",
              "    </tr>\n",
              "    <tr>\n",
              "      <th>4</th>\n",
              "      <td>458104</td>\n",
              "      <td>2021-07-14</td>\n",
              "      <td>CB SUBA</td>\n",
              "      <td>Casas del Consumidor Bogota</td>\n",
              "      <td>BOGOTA</td>\n",
              "      <td>BOGOTA</td>\n",
              "      <td>SUBA</td>\n",
              "      <td>ARREGLO DIRECTO</td>\n",
              "      <td>SIC</td>\n",
              "      <td>Garantías</td>\n",
              "      <td>...</td>\n",
              "      <td>Servicio</td>\n",
              "      <td>televisor 60 pulgadas marca LG</td>\n",
              "      <td>2600000</td>\n",
              "      <td>2018-05-16 00:00</td>\n",
              "      <td>2021-08-05</td>\n",
              "      <td>2021-08-05</td>\n",
              "      <td>2021-08-05</td>\n",
              "      <td>SI</td>\n",
              "      <td>2021-08-05 12:39</td>\n",
              "      <td>22</td>\n",
              "    </tr>\n",
              "  </tbody>\n",
              "</table>\n",
              "<p>5 rows × 34 columns</p>\n",
              "</div>\n",
              "    <div class=\"colab-df-buttons\">\n",
              "\n",
              "  <div class=\"colab-df-container\">\n",
              "    <button class=\"colab-df-convert\" onclick=\"convertToInteractive('df-4d8dde47-26a1-4fc9-9b91-2b552cbec5a7')\"\n",
              "            title=\"Convert this dataframe to an interactive table.\"\n",
              "            style=\"display:none;\">\n",
              "\n",
              "  <svg xmlns=\"http://www.w3.org/2000/svg\" height=\"24px\" viewBox=\"0 -960 960 960\">\n",
              "    <path d=\"M120-120v-720h720v720H120Zm60-500h600v-160H180v160Zm220 220h160v-160H400v160Zm0 220h160v-160H400v160ZM180-400h160v-160H180v160Zm440 0h160v-160H620v160ZM180-180h160v-160H180v160Zm440 0h160v-160H620v160Z\"/>\n",
              "  </svg>\n",
              "    </button>\n",
              "\n",
              "  <style>\n",
              "    .colab-df-container {\n",
              "      display:flex;\n",
              "      gap: 12px;\n",
              "    }\n",
              "\n",
              "    .colab-df-convert {\n",
              "      background-color: #E8F0FE;\n",
              "      border: none;\n",
              "      border-radius: 50%;\n",
              "      cursor: pointer;\n",
              "      display: none;\n",
              "      fill: #1967D2;\n",
              "      height: 32px;\n",
              "      padding: 0 0 0 0;\n",
              "      width: 32px;\n",
              "    }\n",
              "\n",
              "    .colab-df-convert:hover {\n",
              "      background-color: #E2EBFA;\n",
              "      box-shadow: 0px 1px 2px rgba(60, 64, 67, 0.3), 0px 1px 3px 1px rgba(60, 64, 67, 0.15);\n",
              "      fill: #174EA6;\n",
              "    }\n",
              "\n",
              "    .colab-df-buttons div {\n",
              "      margin-bottom: 4px;\n",
              "    }\n",
              "\n",
              "    [theme=dark] .colab-df-convert {\n",
              "      background-color: #3B4455;\n",
              "      fill: #D2E3FC;\n",
              "    }\n",
              "\n",
              "    [theme=dark] .colab-df-convert:hover {\n",
              "      background-color: #434B5C;\n",
              "      box-shadow: 0px 1px 3px 1px rgba(0, 0, 0, 0.15);\n",
              "      filter: drop-shadow(0px 1px 2px rgba(0, 0, 0, 0.3));\n",
              "      fill: #FFFFFF;\n",
              "    }\n",
              "  </style>\n",
              "\n",
              "    <script>\n",
              "      const buttonEl =\n",
              "        document.querySelector('#df-4d8dde47-26a1-4fc9-9b91-2b552cbec5a7 button.colab-df-convert');\n",
              "      buttonEl.style.display =\n",
              "        google.colab.kernel.accessAllowed ? 'block' : 'none';\n",
              "\n",
              "      async function convertToInteractive(key) {\n",
              "        const element = document.querySelector('#df-4d8dde47-26a1-4fc9-9b91-2b552cbec5a7');\n",
              "        const dataTable =\n",
              "          await google.colab.kernel.invokeFunction('convertToInteractive',\n",
              "                                                    [key], {});\n",
              "        if (!dataTable) return;\n",
              "\n",
              "        const docLinkHtml = 'Like what you see? Visit the ' +\n",
              "          '<a target=\"_blank\" href=https://colab.research.google.com/notebooks/data_table.ipynb>data table notebook</a>'\n",
              "          + ' to learn more about interactive tables.';\n",
              "        element.innerHTML = '';\n",
              "        dataTable['output_type'] = 'display_data';\n",
              "        await google.colab.output.renderOutput(dataTable, element);\n",
              "        const docLink = document.createElement('div');\n",
              "        docLink.innerHTML = docLinkHtml;\n",
              "        element.appendChild(docLink);\n",
              "      }\n",
              "    </script>\n",
              "  </div>\n",
              "\n",
              "\n",
              "<div id=\"df-9d347806-c961-4c41-a29c-750db655610a\">\n",
              "  <button class=\"colab-df-quickchart\" onclick=\"quickchart('df-9d347806-c961-4c41-a29c-750db655610a')\"\n",
              "            title=\"Suggest charts\"\n",
              "            style=\"display:none;\">\n",
              "\n",
              "<svg xmlns=\"http://www.w3.org/2000/svg\" height=\"24px\"viewBox=\"0 0 24 24\"\n",
              "     width=\"24px\">\n",
              "    <g>\n",
              "        <path d=\"M19 3H5c-1.1 0-2 .9-2 2v14c0 1.1.9 2 2 2h14c1.1 0 2-.9 2-2V5c0-1.1-.9-2-2-2zM9 17H7v-7h2v7zm4 0h-2V7h2v10zm4 0h-2v-4h2v4z\"/>\n",
              "    </g>\n",
              "</svg>\n",
              "  </button>\n",
              "\n",
              "<style>\n",
              "  .colab-df-quickchart {\n",
              "      --bg-color: #E8F0FE;\n",
              "      --fill-color: #1967D2;\n",
              "      --hover-bg-color: #E2EBFA;\n",
              "      --hover-fill-color: #174EA6;\n",
              "      --disabled-fill-color: #AAA;\n",
              "      --disabled-bg-color: #DDD;\n",
              "  }\n",
              "\n",
              "  [theme=dark] .colab-df-quickchart {\n",
              "      --bg-color: #3B4455;\n",
              "      --fill-color: #D2E3FC;\n",
              "      --hover-bg-color: #434B5C;\n",
              "      --hover-fill-color: #FFFFFF;\n",
              "      --disabled-bg-color: #3B4455;\n",
              "      --disabled-fill-color: #666;\n",
              "  }\n",
              "\n",
              "  .colab-df-quickchart {\n",
              "    background-color: var(--bg-color);\n",
              "    border: none;\n",
              "    border-radius: 50%;\n",
              "    cursor: pointer;\n",
              "    display: none;\n",
              "    fill: var(--fill-color);\n",
              "    height: 32px;\n",
              "    padding: 0;\n",
              "    width: 32px;\n",
              "  }\n",
              "\n",
              "  .colab-df-quickchart:hover {\n",
              "    background-color: var(--hover-bg-color);\n",
              "    box-shadow: 0 1px 2px rgba(60, 64, 67, 0.3), 0 1px 3px 1px rgba(60, 64, 67, 0.15);\n",
              "    fill: var(--button-hover-fill-color);\n",
              "  }\n",
              "\n",
              "  .colab-df-quickchart-complete:disabled,\n",
              "  .colab-df-quickchart-complete:disabled:hover {\n",
              "    background-color: var(--disabled-bg-color);\n",
              "    fill: var(--disabled-fill-color);\n",
              "    box-shadow: none;\n",
              "  }\n",
              "\n",
              "  .colab-df-spinner {\n",
              "    border: 2px solid var(--fill-color);\n",
              "    border-color: transparent;\n",
              "    border-bottom-color: var(--fill-color);\n",
              "    animation:\n",
              "      spin 1s steps(1) infinite;\n",
              "  }\n",
              "\n",
              "  @keyframes spin {\n",
              "    0% {\n",
              "      border-color: transparent;\n",
              "      border-bottom-color: var(--fill-color);\n",
              "      border-left-color: var(--fill-color);\n",
              "    }\n",
              "    20% {\n",
              "      border-color: transparent;\n",
              "      border-left-color: var(--fill-color);\n",
              "      border-top-color: var(--fill-color);\n",
              "    }\n",
              "    30% {\n",
              "      border-color: transparent;\n",
              "      border-left-color: var(--fill-color);\n",
              "      border-top-color: var(--fill-color);\n",
              "      border-right-color: var(--fill-color);\n",
              "    }\n",
              "    40% {\n",
              "      border-color: transparent;\n",
              "      border-right-color: var(--fill-color);\n",
              "      border-top-color: var(--fill-color);\n",
              "    }\n",
              "    60% {\n",
              "      border-color: transparent;\n",
              "      border-right-color: var(--fill-color);\n",
              "    }\n",
              "    80% {\n",
              "      border-color: transparent;\n",
              "      border-right-color: var(--fill-color);\n",
              "      border-bottom-color: var(--fill-color);\n",
              "    }\n",
              "    90% {\n",
              "      border-color: transparent;\n",
              "      border-bottom-color: var(--fill-color);\n",
              "    }\n",
              "  }\n",
              "</style>\n",
              "\n",
              "  <script>\n",
              "    async function quickchart(key) {\n",
              "      const quickchartButtonEl =\n",
              "        document.querySelector('#' + key + ' button');\n",
              "      quickchartButtonEl.disabled = true;  // To prevent multiple clicks.\n",
              "      quickchartButtonEl.classList.add('colab-df-spinner');\n",
              "      try {\n",
              "        const charts = await google.colab.kernel.invokeFunction(\n",
              "            'suggestCharts', [key], {});\n",
              "      } catch (error) {\n",
              "        console.error('Error during call to suggestCharts:', error);\n",
              "      }\n",
              "      quickchartButtonEl.classList.remove('colab-df-spinner');\n",
              "      quickchartButtonEl.classList.add('colab-df-quickchart-complete');\n",
              "    }\n",
              "    (() => {\n",
              "      let quickchartButtonEl =\n",
              "        document.querySelector('#df-9d347806-c961-4c41-a29c-750db655610a button');\n",
              "      quickchartButtonEl.style.display =\n",
              "        google.colab.kernel.accessAllowed ? 'block' : 'none';\n",
              "    })();\n",
              "  </script>\n",
              "</div>\n",
              "\n",
              "    </div>\n",
              "  </div>\n"
            ],
            "application/vnd.google.colaboratory.intrinsic+json": {
              "type": "dataframe",
              "variable_name": "df"
            }
          },
          "metadata": {},
          "execution_count": 3
        }
      ]
    },
    {
      "cell_type": "markdown",
      "source": [
        "# Exploración Inicial de los Datos\n",
        "\n",
        "Se define una función descripcion(df) para:\n",
        "\n",
        "Mostrar una descripción general del dataset.\n",
        "Indicar si existen valores faltantes en alguna columna y su porcentaje."
      ],
      "metadata": {
        "id": "mxINZElEIyuY"
      }
    },
    {
      "cell_type": "code",
      "source": [
        "df.info()"
      ],
      "metadata": {
        "colab": {
          "base_uri": "https://localhost:8080/"
        },
        "id": "5CDk97jKI4xK",
        "outputId": "79e9281b-8f16-459f-86ff-f574c09ede06"
      },
      "execution_count": 4,
      "outputs": [
        {
          "output_type": "stream",
          "name": "stdout",
          "text": [
            "<class 'pandas.core.frame.DataFrame'>\n",
            "RangeIndex: 3991 entries, 0 to 3990\n",
            "Data columns (total 34 columns):\n",
            " #   Column                          Non-Null Count  Dtype \n",
            "---  ------                          --------------  ----- \n",
            " 0   PAID                            3991 non-null   int64 \n",
            " 1   FECHA_REGISTRO                  3991 non-null   object\n",
            " 2   UNIDAD_NOMBRE                   3991 non-null   object\n",
            " 3   PROYECTO_RNPC                   3991 non-null   object\n",
            " 4   UNIDAD_DEPARTAMENTO             3991 non-null   object\n",
            " 5   DESTINO_DEPARTAMENTO            3991 non-null   object\n",
            " 6   DESTINO_CIUDAD                  3991 non-null   object\n",
            " 7   ATENCION_TIPO_TRAMITE           3991 non-null   object\n",
            " 8   ATENCION_DESTINO                3991 non-null   object\n",
            " 9   ATENCION_TEMA                   3991 non-null   object\n",
            " 10  ATENCION_MOTIVO                 3991 non-null   object\n",
            " 11  ATENCION_ESTADO                 3991 non-null   object\n",
            " 12  PERSONA_RANGO_EDAD              3991 non-null   object\n",
            " 13  PERSONA_CONDICION_DISCAPACIDAD  3991 non-null   object\n",
            " 14  PERSONA_POBLACION_ESPECIAL      3991 non-null   object\n",
            " 15  PERSONA_GENERO                  3991 non-null   object\n",
            " 16  PERSONA_PROFESION               3991 non-null   object\n",
            " 17  PERSONA_ACEPTA_HABEAS_DATA      3991 non-null   object\n",
            " 18  TIPO_EMPRESA                    3991 non-null   object\n",
            " 19  EMPRESA_TIPO_DOCUMENTO          2400 non-null   object\n",
            " 20  EMPRESA_TIPO_DOCUMENTO.1        3991 non-null   object\n",
            " 21  EMPRESA_RAZON_SOCIAL            3991 non-null   object\n",
            " 22  ESTADO_SERVICIO                 3991 non-null   object\n",
            " 23  CAUSAL                          3991 non-null   object\n",
            " 24  TIPO_PRODUCTO                   3991 non-null   object\n",
            " 25  NOMBRE_PRODUCTO                 3991 non-null   object\n",
            " 26  VALOR_PRODUCTO                  3990 non-null   object\n",
            " 27  FECHA_ADQUISICION               3991 non-null   object\n",
            " 28  FECHA_ULTIMO_ENCUENTRO          3991 non-null   object\n",
            " 29  FECHA_FIN_ULTIMO_ENCUENTRO      3819 non-null   object\n",
            " 30  FECHA_FIN_REAL                  3991 non-null   object\n",
            " 31  ENCUENTRO_ACORDADO              3991 non-null   object\n",
            " 32  FECHA_CONTRATO                  1112 non-null   object\n",
            " 33  DURACION                        3991 non-null   int64 \n",
            "dtypes: int64(2), object(32)\n",
            "memory usage: 1.0+ MB\n"
          ]
        }
      ]
    },
    {
      "cell_type": "code",
      "source": [
        "# Se crea una función que realiza una exploración general a la base de datos\n",
        "def descripcion(df):\n",
        "  print(\"------------------ Descripción general de los datos ------------------\")\n",
        "  print(\"\")\n",
        "  print(\"En total la base de datos tiene \" + str(len(df)) + \" registros y \" + str(df.shape[1])+ \" variables.\")\n",
        "  print(\"\")\n",
        "  if df.isnull().any().any():\n",
        "    print(\"Algunas columnas tienen valores faltantes. A continuación se muestra el porcentaje de valores nulos por columna:\")\n",
        "    print(df.isnull().sum() / len(df))\n",
        "  else:\n",
        "    print(\"La base de datos no tiene columnas con valores faltantes\")"
      ],
      "metadata": {
        "id": "4yTQZZSfI8jg"
      },
      "execution_count": 5,
      "outputs": []
    },
    {
      "cell_type": "code",
      "source": [
        "descripcion(df)"
      ],
      "metadata": {
        "colab": {
          "base_uri": "https://localhost:8080/"
        },
        "id": "Yw0gnvMYJArX",
        "outputId": "281c7524-e428-4f13-b222-8d262b91af2b"
      },
      "execution_count": 6,
      "outputs": [
        {
          "output_type": "stream",
          "name": "stdout",
          "text": [
            "------------------ Descripción general de los datos ------------------\n",
            "\n",
            "En total la base de datos tiene 3991 registros y 34 variables.\n",
            "\n",
            "Algunas columnas tienen valores faltantes. A continuación se muestra el porcentaje de valores nulos por columna:\n",
            "PAID                              0.000000\n",
            "FECHA_REGISTRO                    0.000000\n",
            "UNIDAD_NOMBRE                     0.000000\n",
            "PROYECTO_RNPC                     0.000000\n",
            "UNIDAD_DEPARTAMENTO               0.000000\n",
            "DESTINO_DEPARTAMENTO              0.000000\n",
            "DESTINO_CIUDAD                    0.000000\n",
            "ATENCION_TIPO_TRAMITE             0.000000\n",
            "ATENCION_DESTINO                  0.000000\n",
            "ATENCION_TEMA                     0.000000\n",
            "ATENCION_MOTIVO                   0.000000\n",
            "ATENCION_ESTADO                   0.000000\n",
            "PERSONA_RANGO_EDAD                0.000000\n",
            "PERSONA_CONDICION_DISCAPACIDAD    0.000000\n",
            "PERSONA_POBLACION_ESPECIAL        0.000000\n",
            "PERSONA_GENERO                    0.000000\n",
            "PERSONA_PROFESION                 0.000000\n",
            "PERSONA_ACEPTA_HABEAS_DATA        0.000000\n",
            "TIPO_EMPRESA                      0.000000\n",
            "EMPRESA_TIPO_DOCUMENTO            0.398647\n",
            "EMPRESA_TIPO_DOCUMENTO.1          0.000000\n",
            "EMPRESA_RAZON_SOCIAL              0.000000\n",
            "ESTADO_SERVICIO                   0.000000\n",
            "CAUSAL                            0.000000\n",
            "TIPO_PRODUCTO                     0.000000\n",
            "NOMBRE_PRODUCTO                   0.000000\n",
            "VALOR_PRODUCTO                    0.000251\n",
            "FECHA_ADQUISICION                 0.000000\n",
            "FECHA_ULTIMO_ENCUENTRO            0.000000\n",
            "FECHA_FIN_ULTIMO_ENCUENTRO        0.043097\n",
            "FECHA_FIN_REAL                    0.000000\n",
            "ENCUENTRO_ACORDADO                0.000000\n",
            "FECHA_CONTRATO                    0.721373\n",
            "DURACION                          0.000000\n",
            "dtype: float64\n"
          ]
        }
      ]
    },
    {
      "cell_type": "markdown",
      "source": [
        "# Preprocesamiento de los Datos\n",
        "\n",
        "Se crea un diccionario REGION_DEPTO para agrupar los departamentos en regiones. Este diccionario se aplica a la columna UNIDAD_DEPARTAMENTO para generar una nueva columna REGION.\n",
        "\n",
        "Se eliminan caracteres no numéricos y valores \"INDETERMINADO\" de VALOR_PRODUCTO, y se convierte la columna a un tipo numérico. Los valores faltantes o igual a cero se reemplazan con el promedio calculado de los valores existentes.\n",
        "\n",
        "Se seleccionan las variables REGION, ATENCION_TEMA, PERSONA_RANGO_EDAD, PERSONA_GENERO, PERSONA_PROFESION, TIPO_PRODUCTO, VALOR_PRODUCTO y DURACION.\n",
        "\n",
        "Las variables categóricas seleccionadas se codifican utilizando OneHotEncoder, generando variables binarias.\n",
        "\n",
        "El dataset se divide en conjuntos de entrenamiento y prueba en una proporción de 80/20."
      ],
      "metadata": {
        "id": "qBYHmcbVJFfr"
      }
    },
    {
      "cell_type": "code",
      "source": [
        "REGION_DEPTO = {\n",
        "    'ATLANTICO': 'Caribe',\n",
        "    'BOLIVAR': 'Caribe',\n",
        "    'CESAR': 'Caribe',\n",
        "    'CORDOBA': 'Caribe',\n",
        "    'SUCRE': 'Caribe',\n",
        "    'SAN ANDRES': 'Caribe',\n",
        "    'CAUCA': 'Pacífica',\n",
        "    'VALLE DEL CAUCA': 'Pacífica',\n",
        "    'NARIÑO': 'Pacífica',\n",
        "    'BOGOTA': 'Andina',\n",
        "    'CUNDINAMARCA': 'Andina',\n",
        "    'HUILA': 'Andina',\n",
        "    'TOLIMA': 'Andina',\n",
        "    'QUINDIO': 'Andina',\n",
        "    'RISARALDA': 'Andina',\n",
        "    'SANTANDER': 'Andina',\n",
        "    'N. DE SANTANDER': 'Andina',\n",
        "    'META': 'Orinoquia'}"
      ],
      "metadata": {
        "id": "W1U2sdpCJYhi"
      },
      "execution_count": 7,
      "outputs": []
    },
    {
      "cell_type": "code",
      "source": [
        "# Eliminar caracteres no numéricos y convertir a numérico\n",
        "df['VALOR_PRODUCTO'] = df['VALOR_PRODUCTO'].replace({r'[^\\d.]': '', 'INDETERMINADO': None}, regex=True)\n",
        "df['VALOR_PRODUCTO'] = pd.to_numeric(df['VALOR_PRODUCTO'], errors='coerce')\n",
        "\n",
        "# Calcular el promedio excluyendo ceros y NaN\n",
        "promedio = df.loc[df['VALOR_PRODUCTO'] > 0, 'VALOR_PRODUCTO'].mean()\n",
        "\n",
        "# Imputar los valores de '0' y NaN con el promedio calculado\n",
        "df['VALOR_PRODUCTO'] = df['VALOR_PRODUCTO'].apply(lambda x: promedio if pd.isna(x) or x == 0 else x)\n",
        "\n",
        "df['REGION'] = df['UNIDAD_DEPARTAMENTO'].map(REGION_DEPTO)"
      ],
      "metadata": {
        "id": "L3t69616Ja5r"
      },
      "execution_count": 8,
      "outputs": []
    },
    {
      "cell_type": "code",
      "source": [
        "variables_interes = ['REGION', 'ATENCION_TEMA', 'PERSONA_RANGO_EDAD', 'PERSONA_GENERO',\n",
        "                     'PERSONA_PROFESION', 'TIPO_PRODUCTO', 'VALOR_PRODUCTO', 'DURACION']\n",
        "data = df[variables_interes].copy()"
      ],
      "metadata": {
        "id": "SNeGy2XOJeJq"
      },
      "execution_count": 9,
      "outputs": []
    },
    {
      "cell_type": "code",
      "source": [
        "# Crear transformador para variables categóricas\n",
        "categorical_features = ['REGION', 'ATENCION_TEMA', 'PERSONA_RANGO_EDAD', 'PERSONA_GENERO', 'PERSONA_PROFESION', 'TIPO_PRODUCTO']\n",
        "categorical_transformer = OneHotEncoder(handle_unknown=\"ignore\")"
      ],
      "metadata": {
        "id": "iqC5fj4FJgIn"
      },
      "execution_count": 10,
      "outputs": []
    },
    {
      "cell_type": "code",
      "source": [
        "# Dividir en características\n",
        "X = data.drop('DURACION', axis=1)\n",
        "y = data['DURACION']"
      ],
      "metadata": {
        "id": "8lQGDoVPJiIj"
      },
      "execution_count": 11,
      "outputs": []
    },
    {
      "cell_type": "code",
      "source": [
        "# Dividir en conjuntos de entrenamiento y prueba\n",
        "X_train, X_test, y_train, y_test = train_test_split(X, y, test_size=0.2, random_state=42)"
      ],
      "metadata": {
        "id": "MK8OW8OpJlNb"
      },
      "execution_count": 12,
      "outputs": []
    },
    {
      "cell_type": "markdown",
      "source": [
        "# Modelo: Creación del Pipeline y Preprocesado\n",
        "\n",
        "Se utiliza ColumnTransformer para aplicar OneHotEncoder a las variables categóricas, mientras que el resto de columnas permanecen sin cambios.\n",
        "\n",
        "Se crea un pipeline que incluye el preprocesamiento de datos seguido del modelo GradientBoostingRegressor."
      ],
      "metadata": {
        "id": "PwOD4ysAJuB6"
      }
    },
    {
      "cell_type": "code",
      "source": [
        "# Crear preprocesador\n",
        "preprocessor = ColumnTransformer(\n",
        "    transformers=[\n",
        "        ('cat', categorical_transformer, categorical_features)\n",
        "    ],\n",
        "    remainder='passthrough'\n",
        ")\n",
        "\n",
        "# Pipeline que incluye el preprocesamiento y el modelo\n",
        "pipeline = Pipeline(steps=[('preprocessor', preprocessor),\n",
        "                           ('model', GradientBoostingRegressor(random_state=42))])"
      ],
      "metadata": {
        "id": "m9vNlPnnKmZ3"
      },
      "execution_count": 13,
      "outputs": []
    },
    {
      "cell_type": "markdown",
      "source": [
        "# Búsqueda de Hiperparámetros con GridSearchCV\n",
        "\n",
        "Se define un rango de hiperparámetros (n_estimators, learning_rate, max_depth, subsample) para optimizar el modelo GradientBoostingRegressor.\n",
        "\n",
        "Se configura GridSearchCV para realizar validación cruzada con 5 particiones (cv=5), optimizando el error absoluto medio (scoring='neg_mean_absolute_error').\n",
        "\n",
        "Una vez finalizada la búsqueda, se obtienen los mejores parámetros que maximizan el rendimiento del modelo."
      ],
      "metadata": {
        "id": "lWccFX6TKqeA"
      }
    },
    {
      "cell_type": "code",
      "source": [
        "# Definir el espacio de búsqueda para Grid Search\n",
        "param_grid = {\n",
        "    'model__n_estimators': [50, 100, 200],\n",
        "    'model__learning_rate': [0.01, 0.1, 0.2],\n",
        "    'model__max_depth': [3, 5, 7],\n",
        "    'model__subsample': [0.8, 1.0]\n",
        "}\n",
        "\n",
        "# Configurar Grid Search con validación cruzada\n",
        "grid_search = GridSearchCV(pipeline, param_grid, cv=5, scoring='neg_mean_absolute_error')\n",
        "grid_search.fit(X_train, y_train)\n",
        "\n",
        "# Mejor estimador\n",
        "print(\"Mejores hiperparámetros:\", grid_search.best_params_)\n",
        "model = grid_search.best_estimator_\n",
        "\n",
        "# Validación cruzada\n",
        "scores = cross_val_score(model, X, y, cv=5, scoring='neg_mean_absolute_error')\n",
        "print(\"MAE promedio con validación cruzada:\", -scores.mean())"
      ],
      "metadata": {
        "colab": {
          "base_uri": "https://localhost:8080/"
        },
        "id": "hawGPGhKK6Kv",
        "outputId": "71e02937-9558-4437-a79d-66fd0620acf4"
      },
      "execution_count": 14,
      "outputs": [
        {
          "output_type": "stream",
          "name": "stdout",
          "text": [
            "Mejores hiperparámetros: {'model__learning_rate': 0.01, 'model__max_depth': 3, 'model__n_estimators': 50, 'model__subsample': 1.0}\n",
            "MAE promedio con validación cruzada: 11.800756905584938\n"
          ]
        }
      ]
    },
    {
      "cell_type": "markdown",
      "source": [
        "# Entrenamiento y Evaluación del Modelo\n",
        "\n",
        "Se entrena el modelo con los mejores hiperparámetros encontrados en los datos de entrenamiento (X_train, y_train).\n",
        "\n",
        "Se evalúa el rendimiento del modelo en el conjunto de prueba, calculando las métricas:\n",
        "MAE: Error absoluto medio.\n",
        "MSE: Error cuadrático medio.\n",
        "R²: Coeficiente de determinación."
      ],
      "metadata": {
        "id": "l-z2W0s2K8Q3"
      }
    },
    {
      "cell_type": "code",
      "source": [
        "# Entrenar y evaluar el modelo con los mejores hiperparámetros\n",
        "model.fit(X_train, y_train)\n",
        "y_pred = model.predict(X_test)\n",
        "\n",
        "# Métricas de evaluación\n",
        "mae = mean_absolute_error(y_test, y_pred)\n",
        "mse = mean_squared_error(y_test, y_pred)\n",
        "r2 = r2_score(y_test, y_pred)\n",
        "\n",
        "print(\"Mean Absolute Error (MAE):\", mae)\n",
        "print(\"Mean Squared Error (MSE):\", mse)\n",
        "print(\"Coeficiente de determinación (R²):\", r2)"
      ],
      "metadata": {
        "colab": {
          "base_uri": "https://localhost:8080/"
        },
        "id": "Go9e00muLPMM",
        "outputId": "58a78088-a592-4c4b-9cec-e6ca13e15271"
      },
      "execution_count": 15,
      "outputs": [
        {
          "output_type": "stream",
          "name": "stdout",
          "text": [
            "Mean Absolute Error (MAE): 10.838615086299113\n",
            "Mean Squared Error (MSE): 983.9260924922687\n",
            "Coeficiente de determinación (R²): 0.003691295429752217\n"
          ]
        }
      ]
    },
    {
      "cell_type": "markdown",
      "source": [
        "# Importancia de Características\n",
        "\n",
        "Para identificar las características que más influyen en el modelo:\n",
        "\n",
        "Se extraen las importancias de las características (feature_importances_).\n",
        "Se grafican las 10 características más relevantes para visualizar su contribución al modelo."
      ],
      "metadata": {
        "id": "q-wtegSHLdi5"
      }
    },
    {
      "cell_type": "code",
      "source": [
        "# Importancia de características (solo si el modelo lo permite)\n",
        "feature_importance = model.named_steps['model'].feature_importances_\n",
        "sorted_idx = np.argsort(feature_importance)\n",
        "features = model.named_steps['preprocessor'].get_feature_names_out()\n",
        "\n",
        "top_n = 10\n",
        "sorted_idx = np.argsort(feature_importance)[-top_n:]\n",
        "top_features = [features[i] for i in sorted_idx]\n",
        "top_importance = feature_importance[sorted_idx]"
      ],
      "metadata": {
        "id": "FLLT63saLoL0"
      },
      "execution_count": 16,
      "outputs": []
    },
    {
      "cell_type": "markdown",
      "source": [
        "# Visualización de Importancia de Características\n",
        "\n",
        "Se utiliza matplotlib para graficar la importancia de las 10 características principales, mostrando las variables más influyentes en la predicción de DURACION."
      ],
      "metadata": {
        "id": "Mdl06ffYLrYe"
      }
    },
    {
      "cell_type": "code",
      "source": [
        "# Graficar\n",
        "plt.figure(figsize=(10, 6))\n",
        "plt.barh(range(len(sorted_idx)), top_importance, align='center')\n",
        "plt.yticks(range(len(sorted_idx)), top_features)\n",
        "plt.title('Top 10 características más importantes')\n",
        "plt.xlabel('Importancia')\n",
        "plt.ylabel('Características')\n",
        "plt.show()"
      ],
      "metadata": {
        "colab": {
          "base_uri": "https://localhost:8080/",
          "height": 585
        },
        "id": "vq7IaRELJoi8",
        "outputId": "5b4d0f34-2259-4e65-eb0b-0ae7fa048f61"
      },
      "execution_count": 17,
      "outputs": [
        {
          "output_type": "display_data",
          "data": {
            "text/plain": [
              "<Figure size 1000x600 with 1 Axes>"
            ],
            "image/png": "[encoded data removed]"
          },
          "metadata": {}
        }
      ]
    },
    {
      "cell_type": "code",
      "source": [
        "# Definir los hiperparámetros para cada intento\n",
        "attempts = {\n",
        "    \"Attempt 1\": {'n_estimators': 50, 'max_depth': 3, 'learning_rate': 0.01, 'min_samples_split': 2},\n",
        "    \"Attempt 2\": {'n_estimators': 120, 'max_depth': 3, 'learning_rate': 0.08, 'min_samples_split': 4},\n",
        "    \"Attempt 3\": {'n_estimators': 200, 'max_depth': 5, 'learning_rate': 0.03, 'min_samples_split': 2},\n",
        "    \"Attempt 4\": {'n_estimators': 250, 'max_depth': 4, 'learning_rate': 0.05, 'min_samples_split': 3}\n",
        "}\n",
        "\n",
        "# resultados de cada intento\n",
        "results = []\n",
        "\n",
        "# Probar cada conjunto de hiperparámetros\n",
        "for name, params in attempts.items():\n",
        "    # Crear pipeline con preprocesamiento y el modelo\n",
        "    model = Pipeline(steps=[\n",
        "        ('preprocessor', preprocessor),\n",
        "        ('regressor', GradientBoostingRegressor(**params))\n",
        "    ])\n",
        "\n",
        "    # Entrenar el modelo\n",
        "    model.fit(X_train, y_train)\n",
        "\n",
        "    # Realizar predicciones y calcular el MSE\n",
        "    y_pred = model.predict(X_test)\n",
        "    mse = mean_squared_error(y_test, y_pred)\n",
        "\n",
        "    # Guardar el resultado\n",
        "    results.append((name, mse))\n",
        "    print(f\"{name} - MSE: {mse}\")\n",
        "\n",
        "# Crear un DataFrame con los resultados para visualización o análisis adicional\n",
        "results_df = pd.DataFrame(results, columns=[\"Attempt\", \"MSE\"])\n",
        "print(\"\\nSummary of Results:\")\n",
        "print(results_df)\n",
        "\n",
        "# Graficar los resultados\n",
        "plt.figure(figsize=(10, 6))\n",
        "plt.barh(results_df['Attempt'], results_df['MSE'], color=['#8c564b', '#1f77b4', '#9467bd', '#ff7f0e'])\n",
        "plt.xlabel('MSE')\n",
        "plt.title('Performance of Model Attempts')\n",
        "for i, v in enumerate(results_df['MSE']):\n",
        "    plt.text(v + 10, i, f\"{v:.2f}\", va='center')\n",
        "plt.show()\n",
        "\n"
      ],
      "metadata": {
        "colab": {
          "base_uri": "https://localhost:8080/",
          "height": 705
        },
        "id": "o9yU18rxS0zw",
        "outputId": "7bd4522b-e699-492b-b4ed-d71d8cd6cbaa"
      },
      "execution_count": 27,
      "outputs": [
        {
          "output_type": "stream",
          "name": "stdout",
          "text": [
            "Attempt 1 - MSE: 983.9260924922687\n",
            "Attempt 2 - MSE: 1035.977901034817\n",
            "Attempt 3 - MSE: 1209.5264543756946\n",
            "Attempt 4 - MSE: 1202.2149882682306\n",
            "\n",
            "Summary of Results:\n",
            "     Attempt          MSE\n",
            "0  Attempt 1   983.926092\n",
            "1  Attempt 2  1035.977901\n",
            "2  Attempt 3  1209.526454\n",
            "3  Attempt 4  1202.214988\n"
          ]
        },
        {
          "output_type": "display_data",
          "data": {
            "text/plain": [
              "<Figure size 1000x600 with 1 Axes>"
            ],
            "image/png": "[encoded data removed]"
          },
          "metadata": {}
        }
      ]
    }
  ]
}